{
 "cells": [
  {
   "cell_type": "code",
   "execution_count": 2,
   "metadata": {},
   "outputs": [],
   "source": [
    "from motion_modification import modify_motion\n",
    "import utils"
   ]
  },
  {
   "cell_type": "code",
   "execution_count": null,
   "metadata": {},
   "outputs": [],
   "source": [
    "video_path = ''\n",
    "frame_dir_path = ''\n",
    "\n",
    "# convert video to frame folder\n",
    "video2imageFolder(video_path, frame_dir_path)"
   ]
  },
  {
   "cell_type": "code",
   "execution_count": null,
   "metadata": {},
   "outputs": [],
   "source": [
    "# read frames from folder\n",
    "dir_frames = frame_dir_path\n",
    "filenames = []\n",
    "filesinfo = os.scandir(dir_frames)\n",
    "\n",
    "filenames = [f.path for f in filesinfo if f.name.endswith(\".jpg\")]\n",
    "filenames.sort(key=lambda f: int(''.join(filter(str.isdigit, f))))\n",
    "\n",
    "frameCount = len(filenames)\n",
    "frameHeight, frameWidth, frameChannels = cv2.imread(filenames[0]).shape\n",
    "frames = np.zeros((frameCount, frameHeight, frameWidth, frameChannels),dtype=np.float32)\n",
    "\n",
    "for idx, file_i in enumerate(filenames):\n",
    "    frames[idx] = cv2.cvtColor(cv2.imread(file_i), cv2.COLOR_BGR2RGB) / 255.0"
   ]
  },
  {
   "cell_type": "code",
   "execution_count": null,
   "metadata": {},
   "outputs": [],
   "source": [
    "alpha = 0 \n",
    "D = 0 \n",
    "N = 0 \n",
    "K = 0 \n",
    "F_l = 0 \n",
    "F_h = 0 \n",
    "\n",
    "# extract frame_rate information from filename\n",
    "# expected filename: f{frame_idx}-fr{frame_rate}\n",
    "frame_rate = int(filenames[0].split('-')[1][2:])\n",
    "\n",
    "# call modify_motion(frames, frame_rate, alpha, D, N, K, F_l, F_h)\n",
    "modified_frames = modify_motion(frames, frame_rate, alpha, D, N, K, F_l, F_h)"
   ]
  },
  {
   "cell_type": "code",
   "execution_count": null,
   "metadata": {},
   "outputs": [],
   "source": [
    "modified_frame_dir_path = ''\n",
    "modified_video_path = ''  # optional\n",
    "output_fps = 0  # optional\n",
    "\n",
    "# save modified frames to image folder\n",
    "for i, mframe in enumerate(modified_frames):\n",
    "    cv2.imwrite(f'{modified_frame_dir_path}/m{:04d}.jpg'.format(i), cv2.cvtColor(mframe, cv2.COLOR_BGR2RGB))\n",
    "\n",
    "# convert frames to video\n",
    "imageFolder2mpeg(modified_frame_dir_path, output_path=modified_video_path, fps=output_fps):"
   ]
  },
  {
   "cell_type": "code",
   "execution_count": 165,
   "metadata": {},
   "outputs": [
    {
     "name": "stderr",
     "output_type": "stream",
     "text": "/Users/SamYang95/miniconda3/lib/python3.7/site-packages/ipykernel_launcher.py:7: ComplexWarning: Casting complex values to real discards the imaginary part\n  import sys\n"
    }
   ],
   "source": [
    "F = scipy.fftpack.fft(scipy.fftpack.ifftshift(scipy.signal.firwin(50,[1,3],fs=9,pass_zero=False)))\n",
    "\n",
    "delta_phi = temporal_filtering(np.angle(I1), F)\n",
    "\n",
    "J = np.empty(shape=I1.shape)\n",
    "for i in range(delta_phi.shape[0]):\n",
    "    J[i] = modify_motion(10, delta_phi[i], I1[i])"
   ]
  },
  {
   "cell_type": "code",
   "execution_count": 86,
   "metadata": {},
   "outputs": [],
   "source": [
    "I1 = np.ones(shape=(50, 9, 10))\n",
    "idx, inc = 0, -1\n",
    "\n",
    "I1[0, 4, 0] = 0\n",
    "for i, img in enumerate(I1[1:]):\n",
    "    if i % 9 == 0: inc *= -1  \n",
    "    idx += inc  \n",
    "    img[4][idx] = 0"
   ]
  }
 ],
 "metadata": {
  "kernelspec": {
   "display_name": "Python 3",
   "language": "python",
   "name": "python3"
  },
  "language_info": {
   "codemirror_mode": {
    "name": "ipython",
    "version": 3
   },
   "file_extension": ".py",
   "mimetype": "text/x-python",
   "name": "python",
   "nbconvert_exporter": "python",
   "pygments_lexer": "ipython3",
   "version": "3.7.3"
  }
 },
 "nbformat": 4,
 "nbformat_minor": 2
}