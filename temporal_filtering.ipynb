{
 "cells": [
  {
   "cell_type": "code",
   "execution_count": 5,
   "metadata": {},
   "outputs": [],
   "source": [
    "import scipy\n",
    "from scipy import fftpack, signal\n",
    "import matplotlib.pyplot as plt\n",
    "import numpy as np"
   ]
  },
  {
   "cell_type": "code",
   "execution_count": null,
   "metadata": {},
   "outputs": [],
   "source": [
    "def pyr2im(pyr):\n",
    "    pass\n",
    "\n",
    "def im2pyr(im, d, n, k, filter):\n",
    "    pass\n",
    "\n",
    "def frames2video(frames):\n",
    "    pass\n",
    "\n",
    "def modify_motion(video, alpha, D, N, K, filter1, filter2):\n",
    "    # process video to frames, compute frame_rate\n",
    "    frames = []\n",
    "    frame_rate = 0\n",
    "\n",
    "    # obtain steerable pyramid of shape (d, n, k)\n",
    "    pyr = [[[[] for i in range(K)] for i in range(N)] for i in range(D)]\n",
    "    for t, frame in enumerate(frames):\n",
    "        pyr[t] = pyr2im(frame, D, N, K, filter1)\n",
    "\n",
    "    # modify motion\n",
    "    modified_pyr = [[[[] for i in range(K)] for i in range(N)] for i in range(D)]\n",
    "    for d in range(D):\n",
    "        for n in range(N):\n",
    "            for k in range(K):\n",
    "                modified_pyr[:, d, n, k] = perform_temporal_modification(pyr[:, d, n, k], alpha, filter2)\n",
    "\n",
    "    # collapse pyramid\n",
    "    modified_frames = []\n",
    "    for t in range(len(pyr)):\n",
    "        modified_frames[t] = pyr2im(pyr[t])\n",
    "\n",
    "    # output video\n",
    "    output_video = frames2video(modified_frames)\n",
    "    return output_video"
   ]
  },
  {
   "cell_type": "code",
   "execution_count": 161,
   "metadata": {},
   "outputs": [],
   "source": [
    "def temporal_filtering(I, F):\n",
    "    _, h, w = I.shape\n",
    "    J = np.empty(shape=I.shape, dtype=np.complex)\n",
    "    for i in range(w*h):\n",
    "        row, col = np.unravel_index(i, (h, w))\n",
    "        x = I[:, row, col]\n",
    "        x_dft = fftpack.fft(x)        \n",
    "        y_dft = x_dft * F\n",
    "        J[:, row, col] = fftpack.ifft(y_dft)\n",
    "    return J"
   ]
  },
  {
   "cell_type": "code",
   "execution_count": 163,
   "metadata": {},
   "outputs": [],
   "source": [
    "def modify_motion(alpha, delta_phi, I):\n",
    "    return I * np.exp((alpha - 1) * np.complex(0, 1) * delta_phi)"
   ]
  },
  {
   "cell_type": "code",
   "execution_count": 181,
   "metadata": {},
   "outputs": [],
   "source": [
    "def perform_temporal_modification(frames, alpha, temporal_filter):\n",
    "   delta_phi = temporal_filtering(np.angle(frames), temporal_filter)\n",
    "   \n",
    "   J = np.empty(shape=frames.shape)\n",
    "   for i in range(delta_phi.shape[0]):\n",
    "       J[i] = modify_motion(alpha, delta_phi[i], frames[i])"
   ]
  },
  {
   "cell_type": "code",
   "execution_count": 165,
   "metadata": {},
   "outputs": [
    {
     "name": "stderr",
     "output_type": "stream",
     "text": "/Users/SamYang95/miniconda3/lib/python3.7/site-packages/ipykernel_launcher.py:7: ComplexWarning: Casting complex values to real discards the imaginary part\n  import sys\n"
    }
   ],
   "source": [
    "F = scipy.fftpack.fft(scipy.fftpack.ifftshift(scipy.signal.firwin(50,[1,3],fs=9,pass_zero=False)))\n",
    "\n",
    "delta_phi = temporal_filtering(np.angle(I1), F)\n",
    "\n",
    "J = np.empty(shape=I1.shape)\n",
    "for i in range(delta_phi.shape[0]):\n",
    "    J[i] = modify_motion(10, delta_phi[i], I1[i])"
   ]
  },
  {
   "cell_type": "code",
   "execution_count": 86,
   "metadata": {},
   "outputs": [],
   "source": [
    "I1 = np.ones(shape=(50, 9, 10))\n",
    "idx, inc = 0, -1\n",
    "\n",
    "I1[0, 4, 0] = 0\n",
    "for i, img in enumerate(I1[1:]):\n",
    "    if i % 9 == 0: inc *= -1  \n",
    "    idx += inc  \n",
    "    img[4][idx] = 0"
   ]
  },
  {
   "cell_type": "code",
   "execution_count": null,
   "metadata": {},
   "outputs": [],
   "source": []
  }
 ],
 "metadata": {
  "kernelspec": {
   "display_name": "Python 3",
   "language": "python",
   "name": "python3"
  },
  "language_info": {
   "codemirror_mode": {
    "name": "ipython",
    "version": 3
   },
   "file_extension": ".py",
   "mimetype": "text/x-python",
   "name": "python",
   "nbconvert_exporter": "python",
   "pygments_lexer": "ipython3",
   "version": "3.7.3"
  }
 },
 "nbformat": 4,
 "nbformat_minor": 2
}